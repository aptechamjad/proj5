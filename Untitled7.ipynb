{
 "cells": [
  {
   "cell_type": "code",
   "execution_count": 1,
   "id": "32f9d9eb",
   "metadata": {},
   "outputs": [
    {
     "name": "stdout",
     "output_type": "stream",
     "text": [
      "['danish', 'ali', 'amjad', 0, 1, 2]\n"
     ]
    }
   ],
   "source": [
    "name = [\"danish\",\"ali\",\"amjad\"]\n",
    "numbers = [0,1,2]\n",
    "sum1 = name + numbers\n",
    "print(sum1)"
   ]
  },
  {
   "cell_type": "code",
   "execution_count": 2,
   "id": "67b7ff48",
   "metadata": {},
   "outputs": [
    {
     "name": "stdout",
     "output_type": "stream",
     "text": [
      "-56\n",
      "-5\n"
     ]
    }
   ],
   "source": [
    "list1 = [12,-56,-5,78,89]\n",
    "for num in list1:\n",
    "    if num < 0:\n",
    "        print(num)"
   ]
  },
  {
   "cell_type": "code",
   "execution_count": 3,
   "id": "cd6afb91",
   "metadata": {},
   "outputs": [
    {
     "name": "stdout",
     "output_type": "stream",
     "text": [
      "Not exist\n"
     ]
    }
   ],
   "source": [
    "list2 = [56,78,0,5,6]\n",
    "i = 7\n",
    "if i in list2:\n",
    "    print(\"exist\")\n",
    "else:\n",
    "    print(\"Not exist\")\n"
   ]
  },
  {
   "cell_type": "code",
   "execution_count": null,
   "id": "a10decc7",
   "metadata": {},
   "outputs": [],
   "source": []
  }
 ],
 "metadata": {
  "kernelspec": {
   "display_name": "Python 3 (ipykernel)",
   "language": "python",
   "name": "python3"
  },
  "language_info": {
   "codemirror_mode": {
    "name": "ipython",
    "version": 3
   },
   "file_extension": ".py",
   "mimetype": "text/x-python",
   "name": "python",
   "nbconvert_exporter": "python",
   "pygments_lexer": "ipython3",
   "version": "3.10.9"
  }
 },
 "nbformat": 4,
 "nbformat_minor": 5
}
